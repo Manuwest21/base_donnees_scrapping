{
 "cells": [
  {
   "cell_type": "code",
   "execution_count": 2,
   "metadata": {},
   "outputs": [
    {
     "name": "stdout",
     "output_type": "stream",
     "text": [
      "La collection 'agreg_totale2' a été exportée sous forme de fichier CSV.\n"
     ]
    }
   ],
   "source": [
    "from pymongo import MongoClient\n",
    "import pandas as pd\n",
    "from dotenv import load_dotenv\n",
    "import os\n",
    "\n",
    "load_dotenv()\n",
    "ATLAS_KEY = os.getenv('ATLAS_KEY')\n",
    "\n",
    "client = MongoClient(ATLAS_KEY)\n",
    "db = client['cluster0']\n",
    "\n",
    "# Récupérer tous les documents de la collection \"agreg_totale2\"\n",
    "cursor_agreg_totale = db['collection_fusion_good_test2'].find()\n",
    "\n",
    "# Convertir les documents en un DataFrame pandas\n",
    "df_agreg_totale = pd.DataFrame(list(cursor_agreg_totale))\n",
    "\n",
    "# Sauvegarder le DataFrame dans un fichier CSV\n",
    "df_agreg_totale.to_csv('test2.csv', index=False)\n",
    "\n",
    "print(\"La collection 'agreg_totale2' a été exportée sous forme de fichier CSV.\")\n"
   ]
  },
  {
   "cell_type": "code",
   "execution_count": null,
   "metadata": {},
   "outputs": [],
   "source": []
  },
  {
   "cell_type": "code",
   "execution_count": null,
   "metadata": {},
   "outputs": [],
   "source": []
  },
  {
   "cell_type": "code",
   "execution_count": null,
   "metadata": {},
   "outputs": [],
   "source": []
  },
  {
   "cell_type": "code",
   "execution_count": null,
   "metadata": {},
   "outputs": [],
   "source": []
  }
 ],
 "metadata": {
  "kernelspec": {
   "display_name": "mongo",
   "language": "python",
   "name": "python3"
  },
  "language_info": {
   "codemirror_mode": {
    "name": "ipython",
    "version": 3
   },
   "file_extension": ".py",
   "mimetype": "text/x-python",
   "name": "python",
   "nbconvert_exporter": "python",
   "pygments_lexer": "ipython3",
   "version": "3.11.2"
  },
  "orig_nbformat": 4
 },
 "nbformat": 4,
 "nbformat_minor": 2
}
