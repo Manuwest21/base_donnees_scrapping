{
 "cells": [
  {
   "cell_type": "code",
   "execution_count": 1,
   "metadata": {},
   "outputs": [],
   "source": [
    "from pymongo import MongoClient\n",
    "import pandas as pd\n",
    "from dotenv import load_dotenv\n",
    "import os\n",
    "load_dotenv()\n",
    "ATLAS_KEY= os.getenv('ATLAS_KEY')\n",
    "\n",
    "client= MongoClient(ATLAS_KEY)\n",
    "\n",
    "db=client.cluster0\n",
    "collection=db[\"test_lundi_bis_fr_10k_ok\"]"
   ]
  },
  {
   "cell_type": "code",
   "execution_count": 2,
   "metadata": {},
   "outputs": [
    {
     "data": {
      "text/plain": [
       "<pymongo.results.InsertManyResult at 0x7f4f5ffc17c0>"
      ]
     },
     "execution_count": 2,
     "metadata": {},
     "output_type": "execute_result"
    }
   ],
   "source": [
    "pipeline = [\n",
    "    {\n",
    "        '$group': {\n",
    "            '_id': '$title', # Regrouper par le champ 'title'\n",
    "            'doc': {'$first': '$$ROOT'} # Conserver le premier document complet de chaque groupe\n",
    "        }\n",
    "    },\n",
    "    {\n",
    "        '$replaceRoot': {\n",
    "            'newRoot': '$doc' # Remplacer le document par le document complet conservé dans le champ 'doc'\n",
    "        }\n",
    "    }\n",
    "]\n",
    "\n",
    "# Nouvelle collection pour les documents dédupliqués\n",
    "new_collection = db['nbre_entrees_10kgood']\n",
    "\n",
    "# Insérer les documents dédupliqués dans la nouvelle collection\n",
    "new_collection.insert_many(collection.aggregate(pipeline))"
   ]
  },
  {
   "cell_type": "markdown",
   "metadata": {},
   "source": [
    "# prendre mercredi suivant au format souhaité"
   ]
  },
  {
   "cell_type": "code",
   "execution_count": 8,
   "metadata": {},
   "outputs": [
    {
     "name": "stdout",
     "output_type": "stream",
     "text": [
      "Date du jour : 25-July-2023\n",
      "Prochain mercredi : mercredi-26-juillet-2023\n"
     ]
    }
   ],
   "source": [
    "from datetime import datetime, timedelta\n",
    "\n",
    "\n",
    "mois_en_francais = {\n",
    "    1: 'janvier', 2: 'février', 3: 'mars', 4: 'avril',\n",
    "    5: 'mai', 6: 'juin', 7: 'juillet', 8: 'août',\n",
    "    9: 'septembre', 10: 'octobre', 11: 'novembre', 12: 'décembre'\n",
    "}\n",
    "# Obtenir la date du jour\n",
    "# locale.setlocale(locale.LC_TIME, 'fr_FR')\n",
    "date_du_jour = datetime.now()\n",
    "\n",
    "# Trouver le prochain mercredi\n",
    "jours_a_ajouter = (2 - date_du_jour.weekday()) % 7\n",
    "prochain_mercredi = date_du_jour + timedelta(days=jours_a_ajouter)\n",
    "\n",
    "# Formater la date dans le format souhaité (exemple : mercredi-19-juillet-2023)\n",
    "date_formattee = prochain_mercredi.strftime(\"mercredi-%d-{}-%Y\".format(mois_en_francais[prochain_mercredi.month]))\n",
    "\n",
    "print(\"Date du jour :\", date_du_jour.strftime(\"%d-%B-%Y\"))\n",
    "print(\"Prochain mercredi :\", date_formattee)\n",
    "date_voulue_sortie=date_formattee"
   ]
  },
  {
   "cell_type": "code",
   "execution_count": null,
   "metadata": {},
   "outputs": [],
   "source": [
    "https://popandplay.fr/sorties-cinema/sorties-cinema-du-mercredi-5-juillet-2023"
   ]
  },
  {
   "cell_type": "markdown",
   "metadata": {},
   "source": [
    "# essayer les 2 url"
   ]
  },
  {
   "cell_type": "code",
   "execution_count": 9,
   "metadata": {},
   "outputs": [
    {
     "name": "stdout",
     "output_type": "stream",
     "text": [
      "Requête échouée pour l'URL x. Utilisation de l'URL y : https://popandplay.fr/sorties-cinema/sorties-cinema-du-mercredi-26-juillet-2023\n",
      "Requête réussie pour l'URL y : https://popandplay.fr/sorties-cinema/sorties-cinema-du-mercredi-26-juillet-2023\n"
     ]
    }
   ],
   "source": [
    "import requests\n",
    "i=date_voulue_sortie\n",
    "# URL à essayer (URL x) et URL de secours (URL y)\n",
    "url_x = \"https://popandplay.fr/sorties-cinema/sorties-cinema-{}\".format(i)\n",
    "url_y = \"https://popandplay.fr/sorties-cinema/sorties-cinema-du-{}\".format(i)\n",
    "\n",
    "try:\n",
    "    # Essayer la requête pour l'URL x\n",
    "    response = requests.get(url_x)\n",
    "    response.raise_for_status()  # Vérifier si la requête a réussi (code 200)\n",
    "    print(\"Requête réussie pour l'URL x :\", url_x)\n",
    "except requests.exceptions.RequestException as e:\n",
    "    # Si la requête pour l'URL x échoue, utiliser l'URL y\n",
    "    print(\"Requête échouée pour l'URL x. Utilisation de l'URL y :\", url_y)\n",
    "    try:\n",
    "        # Essayer la requête pour l'URL y\n",
    "        response = requests.get(url_y)\n",
    "        response.raise_for_status()  # Vérifier si la requête a réussi (code 200)\n",
    "        print(\"Requête réussie pour l'URL y :\", url_y)\n",
    "    except requests.exceptions.RequestException as e:\n",
    "        print(\"Requête échouée pour l'URL y également.\")"
   ]
  },
  {
   "cell_type": "code",
   "execution_count": 12,
   "metadata": {},
   "outputs": [
    {
     "name": "stdout",
     "output_type": "stream",
     "text": [
      "hpotpotpop\n"
     ]
    }
   ],
   "source": [
    "test='http'\n",
    "ug='po'.join(test)\n",
    "print(ug)"
   ]
  }
 ],
 "metadata": {
  "kernelspec": {
   "display_name": "mongo",
   "language": "python",
   "name": "python3"
  },
  "language_info": {
   "codemirror_mode": {
    "name": "ipython",
    "version": 3
   },
   "file_extension": ".py",
   "mimetype": "text/x-python",
   "name": "python",
   "nbconvert_exporter": "python",
   "pygments_lexer": "ipython3",
   "version": "3.11.2"
  },
  "orig_nbformat": 4
 },
 "nbformat": 4,
 "nbformat_minor": 2
}
